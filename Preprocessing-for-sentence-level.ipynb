{
 "cells": [
  {
   "cell_type": "markdown",
   "id": "fcda48ec4e746470",
   "metadata": {
    "collapsed": false
   },
   "source": [
    "### Libraries"
   ]
  },
  {
   "cell_type": "code",
   "execution_count": 3,
   "id": "cf0b686cb8a99cb2",
   "metadata": {
    "ExecuteTime": {
     "end_time": "2024-05-06T16:57:11.312608Z",
     "start_time": "2024-05-06T16:57:11.269502Z"
    },
    "collapsed": false
   },
   "outputs": [],
   "source": [
    "from pathlib import Path\n",
    "from bs4 import BeautifulSoup\n",
    "\n",
    "import pandas as pd\n",
    "import json\n",
    "import tqdm\n",
    "import re"
   ]
  },
  {
   "cell_type": "code",
   "execution_count": 4,
   "id": "4a6679fbe3217ef4",
   "metadata": {
    "ExecuteTime": {
     "end_time": "2024-05-06T18:05:04.069626Z",
     "start_time": "2024-05-06T18:05:04.066800Z"
    },
    "collapsed": false
   },
   "outputs": [],
   "source": [
    "import warnings\n",
    "warnings.filterwarnings(\"ignore\")"
   ]
  },
  {
   "cell_type": "markdown",
   "id": "9898db07e36653c0",
   "metadata": {
    "collapsed": false
   },
   "source": [
    "### Read"
   ]
  },
  {
   "cell_type": "code",
   "execution_count": 6,
   "id": "6bf82fe97a4f4d65",
   "metadata": {
    "ExecuteTime": {
     "end_time": "2024-05-06T16:25:55.869200Z",
     "start_time": "2024-05-06T16:25:55.859562Z"
    },
    "collapsed": false
   },
   "outputs": [
    {
     "name": "stdout",
     "output_type": "stream",
     "text": [
      "Html files: 115, annotation files: 115\n"
     ]
    }
   ],
   "source": [
    "data_dir = Path(\"/home/ozzie/Downloads/OPP-115_v1_0/OPP-115\")\n",
    "html_paths = (data_dir / \"sanitized_policies\").glob(\"*.html\")\n",
    "html_paths_map = {html_path.stem: html_path for html_path in html_paths}\n",
    "annot_paths = (data_dir / \"annotations\").glob(\"*.csv\")\n",
    "annot_paths_map = {annot_path.stem: annot_path for annot_path in annot_paths}\n",
    "print(f\"Html files: {len(html_paths_map)}, annotation files: {len(annot_paths_map)}\")"
   ]
  },
  {
   "cell_type": "code",
   "execution_count": 7,
   "id": "da13a5b7a8824bc7",
   "metadata": {
    "ExecuteTime": {
     "end_time": "2024-05-06T16:25:57.426378Z",
     "start_time": "2024-05-06T16:25:57.418609Z"
    },
    "collapsed": false
   },
   "outputs": [
    {
     "name": "stdout",
     "output_type": "stream",
     "text": [
      "Total matched annotations: 115\n"
     ]
    }
   ],
   "source": [
    "paths_map = {}\n",
    "for name in html_paths_map:\n",
    "    paths_map[name] = {\n",
    "        \"annotation\": annot_paths_map[name],\n",
    "        \"html\": html_paths_map[name] \n",
    "    }\n",
    "print(f\"Total matched annotations: {len(paths_map)}\")"
   ]
  },
  {
   "cell_type": "markdown",
   "id": "1589ccd721e5f8ba",
   "metadata": {
    "collapsed": false
   },
   "source": [
    "### Category Analysis"
   ]
  },
  {
   "cell_type": "code",
   "execution_count": 8,
   "id": "655a40dfb2c7cec6",
   "metadata": {
    "ExecuteTime": {
     "end_time": "2024-05-06T16:57:44.535578Z",
     "start_time": "2024-05-06T16:57:21.109667Z"
    },
    "collapsed": false
   },
   "outputs": [
    {
     "name": "stderr",
     "output_type": "stream",
     "text": [
      "100%|██████████| 115/115 [00:09<00:00, 12.48it/s]\n"
     ]
    }
   ],
   "source": [
    "unique_cats = {}\n",
    "for _, lookup_dict in tqdm.tqdm(paths_map.items()):\n",
    "    annot_df = pd.read_csv(lookup_dict[\"annotation\"], header=None)\n",
    "    for i in range(len(annot_df)):\n",
    "        annot_cat = annot_df[[5, 6]].values[i][0]\n",
    "        label_str = annot_df[[5, 6]].values[i][1]\n",
    "        label_dict = json.loads(label_str)\n",
    "        unique_sub_cats = set(label_dict.keys())\n",
    "        if annot_cat not in unique_cats:\n",
    "            unique_cats[annot_cat] = unique_sub_cats\n",
    "        else:\n",
    "            unique_cats[annot_cat].update(unique_sub_cats)"
   ]
  },
  {
   "cell_type": "markdown",
   "id": "4fc05147adad665d",
   "metadata": {
    "collapsed": false
   },
   "source": [
    "### Sentence-Level Annotation"
   ]
  },
  {
   "cell_type": "code",
   "execution_count": 9,
   "id": "cf3c2a5a2fe46a64",
   "metadata": {
    "ExecuteTime": {
     "end_time": "2024-05-06T17:05:07.065298Z",
     "start_time": "2024-05-06T17:05:07.058045Z"
    },
    "collapsed": false
   },
   "outputs": [
    {
     "data": {
      "text/plain": [
       "dict_keys(['Third Party Sharing/Collection', 'Other', 'First Party Collection/Use', 'User Choice/Control', 'Policy Change', 'Data Retention', 'User Access, Edit and Deletion', 'Data Security', 'International and Specific Audiences', 'Do Not Track'])"
      ]
     },
     "execution_count": 9,
     "metadata": {},
     "output_type": "execute_result"
    }
   ],
   "source": [
    "unique_cats.keys()"
   ]
  },
  {
   "cell_type": "code",
   "execution_count": 10,
   "id": "54ea88e403c6e6c6",
   "metadata": {
    "ExecuteTime": {
     "end_time": "2024-05-06T17:21:13.359873Z",
     "start_time": "2024-05-06T17:21:13.355015Z"
    },
    "collapsed": false
   },
   "outputs": [],
   "source": [
    "n_gdpr = 7\n",
    "opp_to_gdpr = {\n",
    "    \"Other\": [],\n",
    "    \"First Party Collection/Use\": [0, 1, 2],\n",
    "    \"Third Party Sharing/Collection\": [0, 1, 2],\n",
    "    \"Data Security\": [5],\n",
    "    \"Policy Change\": [0],\n",
    "    \"User Choice/Control\": [0],\n",
    "    \"Data Retention\": [4],\n",
    "    \"International and Specific Audiences\": [0],\n",
    "    \"User Access, Edit and Deletion\": [0, 3],\n",
    "    \"Do Not Track\": []\n",
    "}"
   ]
  },
  {
   "cell_type": "code",
   "execution_count": 11,
   "id": "c1ee8a1b697e9506",
   "metadata": {
    "ExecuteTime": {
     "end_time": "2024-05-06T18:11:50.832363Z",
     "start_time": "2024-05-06T18:11:50.822997Z"
    },
    "collapsed": false
   },
   "outputs": [
    {
     "data": {
      "text/plain": [
       "'123 123 one one. tow tow. plus kek '"
      ]
     },
     "execution_count": 11,
     "metadata": {},
     "output_type": "execute_result"
    }
   ],
   "source": [
    "def preprocess(s: str) -> str:\n",
    "    s = re.sub(r\"www\\.\\w+\\.((com)|(net))\", \"\", s)  # remove links\n",
    "    s = re.sub(r\"[^a-zA-Z0-9_\\.]+\", \" \", s)  # remove spaces and \\t\\n\\s\n",
    "    return s\n",
    "\n",
    "preprocess(\"123 123     one one. tow tow. plus \\t \\t kek www.sus.net\")"
   ]
  },
  {
   "cell_type": "code",
   "execution_count": 12,
   "id": "337da3910678fb5",
   "metadata": {
    "ExecuteTime": {
     "end_time": "2024-05-06T18:12:08.990822Z",
     "start_time": "2024-05-06T18:11:52.971192Z"
    },
    "collapsed": false
   },
   "outputs": [
    {
     "name": "stderr",
     "output_type": "stream",
     "text": [
      "100%|██████████| 115/115 [00:04<00:00, 23.27it/s]\n"
     ]
    }
   ],
   "source": [
    "data = []\n",
    "for name, lookup_dict in tqdm.tqdm(paths_map.items()):\n",
    "    \n",
    "    # read policy text\n",
    "    with open(lookup_dict[\"html\"], \"r\") as f:\n",
    "        html_content = f.read()\n",
    "    soup = BeautifulSoup(html_content, \"html.parser\")\n",
    "    text = soup.get_text()\n",
    "    text = preprocess(s=text)\n",
    "    # construct starts and ends of sentences\n",
    "    sentence_borders = []\n",
    "    prev_start = 0\n",
    "    for match in re.finditer(r\"\\.\", text):\n",
    "        _, end = match.span()\n",
    "        sentence_borders.append((prev_start, end))\n",
    "        prev_start = end\n",
    "    if len(text) != prev_start:\n",
    "        sentence_borders.append((prev_start, len(text)))\n",
    "    # create holder for sentence labels \n",
    "    sentence_labels = [[0]*n_gdpr for _ in range(len(sentence_borders))]\n",
    "        \n",
    "    # read annotations for policy\n",
    "    annot_df = pd.read_csv(lookup_dict[\"annotation\"], header=None)\n",
    "    for cat, annot in annot_df[[5, 6]].values:  # annotation-level\n",
    "        annot_dict = json.loads(annot)\n",
    "        for segment in annot_dict.values():  # sub-categories level\n",
    "            \n",
    "            # retrieve the text segment of annotation\n",
    "            if \"selectedText\" not in segment:\n",
    "                continue\n",
    "            segment_html = segment[\"selectedText\"]\n",
    "            found_ban_word = False\n",
    "            for ban_text in (\"Not selected\", \"null\"):\n",
    "                if segment_html == ban_text:\n",
    "                    found_ban_word = True\n",
    "            if found_ban_word:\n",
    "                continue\n",
    "            segment_soup = BeautifulSoup(segment_html, \"html.parser\")\n",
    "            segment_text = segment_soup.get_text()\n",
    "            segment_text = preprocess(s=segment_text)\n",
    "            \n",
    "            # find the segment in the original policy text\n",
    "            segment_start = text.find(segment_text)\n",
    "            if segment_start == -1:\n",
    "                raise ValueError(f\"policy: {text}\\n\\nsegment: {segment_text}\\n\\n\")\n",
    "            segment_end = segment_start + len(segment[\"selectedText\"])\n",
    "            for sentence_id, (sentence_start, sentence_end) in enumerate(sentence_borders):  # looking for intersection with sentence\n",
    "                if segment_end > sentence_start and sentence_end > segment_start:\n",
    "                    for gdpr_cat_id in opp_to_gdpr[cat]:\n",
    "                        sentence_labels[sentence_id][gdpr_cat_id] = min(sentence_labels[sentence_id][gdpr_cat_id]+1, 1) \n",
    "    \n",
    "    # construct sentence-level information\n",
    "    for sentence_id, ((sent_start, sent_end), sent_labels) in enumerate(zip(sentence_borders, sentence_labels)):\n",
    "        data.append({\n",
    "            \"policy_name\": name,\n",
    "            \"sentence_id\": sentence_id,\n",
    "            \"sentence_text\": text[sent_start:sent_end],\n",
    "            \"sentence_labels\": sent_labels\n",
    "        })"
   ]
  },
  {
   "cell_type": "markdown",
   "id": "8177449a92763467",
   "metadata": {
    "collapsed": false
   },
   "source": [
    "### Dump"
   ]
  },
  {
   "cell_type": "code",
   "execution_count": 14,
   "id": "c47bf62059f83448",
   "metadata": {
    "ExecuteTime": {
     "end_time": "2024-05-06T18:21:21.837079Z",
     "start_time": "2024-05-06T18:21:21.769132Z"
    },
    "collapsed": false
   },
   "outputs": [
    {
     "data": {
      "text/html": [
       "<div>\n",
       "<style scoped>\n",
       "    .dataframe tbody tr th:only-of-type {\n",
       "        vertical-align: middle;\n",
       "    }\n",
       "\n",
       "    .dataframe tbody tr th {\n",
       "        vertical-align: top;\n",
       "    }\n",
       "\n",
       "    .dataframe thead th {\n",
       "        text-align: right;\n",
       "    }\n",
       "</style>\n",
       "<table border=\"1\" class=\"dataframe\">\n",
       "  <thead>\n",
       "    <tr style=\"text-align: right;\">\n",
       "      <th></th>\n",
       "      <th>policy_name</th>\n",
       "      <th>sentence_id</th>\n",
       "      <th>sentence_text</th>\n",
       "      <th>sentence_labels</th>\n",
       "      <th>sentence_length</th>\n",
       "      <th>is_included</th>\n",
       "    </tr>\n",
       "  </thead>\n",
       "  <tbody>\n",
       "    <tr>\n",
       "      <th>0</th>\n",
       "      <td>898_uptodate.com</td>\n",
       "      <td>0</td>\n",
       "      <td>UpToDate online privacy policy UpToDate Inc.</td>\n",
       "      <td>[0, 0, 0, 0, 0, 0, 0]</td>\n",
       "      <td>6</td>\n",
       "      <td>True</td>\n",
       "    </tr>\n",
       "    <tr>\n",
       "      <th>1</th>\n",
       "      <td>898_uptodate.com</td>\n",
       "      <td>1</td>\n",
       "      <td>is very sensitive to the privacy needs of its...</td>\n",
       "      <td>[0, 0, 0, 0, 0, 0, 0]</td>\n",
       "      <td>25</td>\n",
       "      <td>True</td>\n",
       "    </tr>\n",
       "    <tr>\n",
       "      <th>2</th>\n",
       "      <td>898_uptodate.com</td>\n",
       "      <td>2</td>\n",
       "      <td>UpToDate does not sell or otherwise share sub...</td>\n",
       "      <td>[1, 1, 1, 0, 0, 0, 0]</td>\n",
       "      <td>16</td>\n",
       "      <td>True</td>\n",
       "    </tr>\n",
       "    <tr>\n",
       "      <th>3</th>\n",
       "      <td>898_uptodate.com</td>\n",
       "      <td>3</td>\n",
       "      <td>To better understand UpToDate s online privac...</td>\n",
       "      <td>[1, 1, 1, 0, 0, 0, 0]</td>\n",
       "      <td>15</td>\n",
       "      <td>True</td>\n",
       "    </tr>\n",
       "    <tr>\n",
       "      <th>4</th>\n",
       "      <td>898_uptodate.com</td>\n",
       "      <td>4</td>\n",
       "      <td>Subscriber Information UpToDate never automat...</td>\n",
       "      <td>[1, 1, 1, 0, 0, 0, 0]</td>\n",
       "      <td>22</td>\n",
       "      <td>True</td>\n",
       "    </tr>\n",
       "    <tr>\n",
       "      <th>...</th>\n",
       "      <td>...</td>\n",
       "      <td>...</td>\n",
       "      <td>...</td>\n",
       "      <td>...</td>\n",
       "      <td>...</td>\n",
       "      <td>...</td>\n",
       "    </tr>\n",
       "    <tr>\n",
       "      <th>12274</th>\n",
       "      <td>414_washingtonian.com</td>\n",
       "      <td>102</td>\n",
       "      <td>Effective Date This Privacy Policy is effecti...</td>\n",
       "      <td>[1, 0, 0, 0, 0, 0, 0]</td>\n",
       "      <td>13</td>\n",
       "      <td>True</td>\n",
       "    </tr>\n",
       "    <tr>\n",
       "      <th>12275</th>\n",
       "      <td>701_tangeroutlet.com</td>\n",
       "      <td>0</td>\n",
       "      <td>Privacy Policy TangerOutlets is committed to k...</td>\n",
       "      <td>[0, 0, 0, 0, 0, 1, 0]</td>\n",
       "      <td>11</td>\n",
       "      <td>True</td>\n",
       "    </tr>\n",
       "    <tr>\n",
       "      <th>12276</th>\n",
       "      <td>701_tangeroutlet.com</td>\n",
       "      <td>1</td>\n",
       "      <td>Any and all personal identifiable information...</td>\n",
       "      <td>[1, 1, 1, 0, 0, 1, 0]</td>\n",
       "      <td>28</td>\n",
       "      <td>True</td>\n",
       "    </tr>\n",
       "    <tr>\n",
       "      <th>12277</th>\n",
       "      <td>701_tangeroutlet.com</td>\n",
       "      <td>2</td>\n",
       "      <td>If at any time you want your email informatio...</td>\n",
       "      <td>[1, 1, 1, 0, 0, 1, 0]</td>\n",
       "      <td>23</td>\n",
       "      <td>True</td>\n",
       "    </tr>\n",
       "    <tr>\n",
       "      <th>12278</th>\n",
       "      <td>701_tangeroutlet.com</td>\n",
       "      <td>3</td>\n",
       "      <td>Any other data updates or removal requests ca...</td>\n",
       "      <td>[1, 0, 0, 0, 0, 0, 0]</td>\n",
       "      <td>22</td>\n",
       "      <td>True</td>\n",
       "    </tr>\n",
       "  </tbody>\n",
       "</table>\n",
       "<p>12279 rows × 6 columns</p>\n",
       "</div>"
      ],
      "text/plain": [
       "                 policy_name  sentence_id   \n",
       "0           898_uptodate.com            0  \\\n",
       "1           898_uptodate.com            1   \n",
       "2           898_uptodate.com            2   \n",
       "3           898_uptodate.com            3   \n",
       "4           898_uptodate.com            4   \n",
       "...                      ...          ...   \n",
       "12274  414_washingtonian.com          102   \n",
       "12275   701_tangeroutlet.com            0   \n",
       "12276   701_tangeroutlet.com            1   \n",
       "12277   701_tangeroutlet.com            2   \n",
       "12278   701_tangeroutlet.com            3   \n",
       "\n",
       "                                           sentence_text   \n",
       "0           UpToDate online privacy policy UpToDate Inc.  \\\n",
       "1       is very sensitive to the privacy needs of its...   \n",
       "2       UpToDate does not sell or otherwise share sub...   \n",
       "3       To better understand UpToDate s online privac...   \n",
       "4       Subscriber Information UpToDate never automat...   \n",
       "...                                                  ...   \n",
       "12274   Effective Date This Privacy Policy is effecti...   \n",
       "12275  Privacy Policy TangerOutlets is committed to k...   \n",
       "12276   Any and all personal identifiable information...   \n",
       "12277   If at any time you want your email informatio...   \n",
       "12278   Any other data updates or removal requests ca...   \n",
       "\n",
       "             sentence_labels  sentence_length  is_included  \n",
       "0      [0, 0, 0, 0, 0, 0, 0]                6         True  \n",
       "1      [0, 0, 0, 0, 0, 0, 0]               25         True  \n",
       "2      [1, 1, 1, 0, 0, 0, 0]               16         True  \n",
       "3      [1, 1, 1, 0, 0, 0, 0]               15         True  \n",
       "4      [1, 1, 1, 0, 0, 0, 0]               22         True  \n",
       "...                      ...              ...          ...  \n",
       "12274  [1, 0, 0, 0, 0, 0, 0]               13         True  \n",
       "12275  [0, 0, 0, 0, 0, 1, 0]               11         True  \n",
       "12276  [1, 1, 1, 0, 0, 1, 0]               28         True  \n",
       "12277  [1, 1, 1, 0, 0, 1, 0]               23         True  \n",
       "12278  [1, 0, 0, 0, 0, 0, 0]               22         True  \n",
       "\n",
       "[12279 rows x 6 columns]"
      ]
     },
     "execution_count": 14,
     "metadata": {},
     "output_type": "execute_result"
    }
   ],
   "source": [
    "df = pd.DataFrame.from_records(data)\n",
    "df[\"sentence_length\"] = df[\"sentence_text\"].apply(lambda s: len(s.split(\" \")))\n",
    "df[\"is_included\"] = df[\"sentence_length\"] >= 5\n",
    "df"
   ]
  },
  {
   "cell_type": "code",
   "execution_count": 15,
   "id": "09aba229",
   "metadata": {},
   "outputs": [
    {
     "name": "stdout",
     "output_type": "stream",
     "text": [
      "Index 0 (GDPR Category 1) count of 1s: 9342\n",
      "Index 1 (GDPR Category 2) count of 1s: 6682\n",
      "Index 2 (GDPR Category 3) count of 1s: 6682\n",
      "Index 3 (GDPR Category 4) count of 1s: 677\n",
      "Index 4 (GDPR Category 5) count of 1s: 410\n",
      "Index 5 (GDPR Category 6) count of 1s: 1084\n",
      "Index 6 (GDPR Category 7) count of 1s: 0\n"
     ]
    }
   ],
   "source": [
    "# Count the number of 1s at each position\n",
    "n_gdpr = 7  # number of GDPR categories\n",
    "\n",
    "# Initialize a list to keep count for each index\n",
    "index_counts = [0] * n_gdpr\n",
    "\n",
    "# Iterate over each row and each index in the sentence_labels\n",
    "for labels in df['sentence_labels']:\n",
    "    for i in range(n_gdpr):\n",
    "        if labels[i] == 1:\n",
    "            index_counts[i] += 1\n",
    "\n",
    "# Display the results\n",
    "for i, count in enumerate(index_counts):\n",
    "    print(f\"Index {i} (GDPR Category {i+1}) count of 1s: {count}\")"
   ]
  },
  {
   "cell_type": "code",
   "execution_count": 189,
   "id": "e01b77ad1ea07748",
   "metadata": {
    "ExecuteTime": {
     "end_time": "2024-05-06T18:24:24.331777Z",
     "start_time": "2024-05-06T18:24:24.173922Z"
    },
    "collapsed": false
   },
   "outputs": [],
   "source": [
    "df.to_csv(\"../data/sentences_gdpr_labels.csv\", index=False)"
   ]
  }
 ],
 "metadata": {
  "kernelspec": {
   "display_name": "Python 3",
   "language": "python",
   "name": "python3"
  },
  "language_info": {
   "codemirror_mode": {
    "name": "ipython",
    "version": 3
   },
   "file_extension": ".py",
   "mimetype": "text/x-python",
   "name": "python",
   "nbconvert_exporter": "python",
   "pygments_lexer": "ipython3",
   "version": "3.10.12"
  }
 },
 "nbformat": 4,
 "nbformat_minor": 5
}
