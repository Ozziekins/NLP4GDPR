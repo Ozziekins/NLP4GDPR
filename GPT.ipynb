{
 "cells": [
  {
   "cell_type": "code",
   "execution_count": 1,
   "metadata": {},
   "outputs": [
    {
     "name": "stdout",
     "output_type": "stream",
     "text": [
      "       policy_name  sentence_id   \n",
      "0  1221_gwdocs.com            0  \\\n",
      "1  1221_gwdocs.com            1   \n",
      "2  1221_gwdocs.com            2   \n",
      "3  1221_gwdocs.com            3   \n",
      "4  1221_gwdocs.com            4   \n",
      "\n",
      "                                       sentence_text        sentence_labels   \n",
      "0  Privacy Policy The GW Medical Faculty Associat...  [0, 0, 0, 0, 0, 0, 0]  \\\n",
      "1   In general you can visit The MFA on the Web w...  [1, 1, 1, 0, 0, 0, 0]   \n",
      "2   In some areas however you may choose services...  [1, 1, 1, 0, 0, 0, 0]   \n",
      "3   Once any personally identifiable information ...  [1, 1, 1, 0, 0, 0, 0]   \n",
      "4   The MFA uses the information collected from y...  [1, 1, 1, 0, 0, 0, 0]   \n",
      "\n",
      "   sentence_length  is_included  \n",
      "0               14         True  \n",
      "1               19         True  \n",
      "2               23         True  \n",
      "3               25         True  \n",
      "4               21         True  \n"
     ]
    }
   ],
   "source": [
    "import pandas as pd\n",
    "\n",
    "# Load the CSV file into a DataFrame\n",
    "df = pd.read_csv('./sentences_gdpr_labels.csv')\n",
    "\n",
    "# Display the first few rows of the DataFrame to check its contents\n",
    "print(df.head(5))\n"
   ]
  },
  {
   "cell_type": "code",
   "execution_count": 2,
   "metadata": {},
   "outputs": [
    {
     "name": "stdout",
     "output_type": "stream",
     "text": [
      "Percentage of 'is_included' that is True: 86.91%\n"
     ]
    }
   ],
   "source": [
    "# Calculate the percentage of 'is_included' that are True\n",
    "percentage_included = df['is_included'].mean() * 100\n",
    "\n",
    "# Print the result\n",
    "print(f\"Percentage of 'is_included' that is True: {percentage_included:.2f}%\")\n"
   ]
  },
  {
   "cell_type": "code",
   "execution_count": 3,
   "metadata": {},
   "outputs": [
    {
     "name": "stdout",
     "output_type": "stream",
     "text": [
      "       policy_name  sentence_id   \n",
      "0  1221_gwdocs.com            0  \\\n",
      "1  1221_gwdocs.com            1   \n",
      "2  1221_gwdocs.com            2   \n",
      "3  1221_gwdocs.com            3   \n",
      "4  1221_gwdocs.com            4   \n",
      "\n",
      "                                       sentence_text        sentence_labels   \n",
      "0  Privacy Policy The GW Medical Faculty Associat...  [0, 0, 0, 0, 0, 0, 0]  \\\n",
      "1   In general you can visit The MFA on the Web w...  [1, 1, 1, 0, 0, 0, 0]   \n",
      "2   In some areas however you may choose services...  [1, 1, 1, 0, 0, 0, 0]   \n",
      "3   Once any personally identifiable information ...  [1, 1, 1, 0, 0, 0, 0]   \n",
      "4   The MFA uses the information collected from y...  [1, 1, 1, 0, 0, 0, 0]   \n",
      "\n",
      "   sentence_length  is_included  \n",
      "0               14         True  \n",
      "1               19         True  \n",
      "2               23         True  \n",
      "3               25         True  \n",
      "4               21         True  \n",
      "Number of rows in the filtered DataFrame: 10672\n"
     ]
    }
   ],
   "source": [
    "# Filter the DataFrame to only include rows where 'is_included' is True\n",
    "df_filtered = df[df['is_included'] == True]\n",
    "\n",
    "# Check the first few rows of the new DataFrame to confirm the rows are dropped\n",
    "print(df_filtered.head())\n",
    "\n",
    "# Optionally, you can view how many rows remain in the filtered DataFrame\n",
    "print(\"Number of rows in the filtered DataFrame:\", len(df_filtered))\n"
   ]
  },
  {
   "cell_type": "code",
   "execution_count": 4,
   "metadata": {},
   "outputs": [],
   "source": [
    "df = df[df['is_included'] == True]\n"
   ]
  },
  {
   "cell_type": "code",
   "execution_count": 5,
   "metadata": {},
   "outputs": [
    {
     "name": "stdout",
     "output_type": "stream",
     "text": [
      "0    [0, 0, 0, 0, 0, 0, 0]\n",
      "1    [1, 1, 1, 0, 0, 0, 0]\n",
      "2    [1, 1, 1, 0, 0, 0, 0]\n",
      "3    [1, 1, 1, 0, 0, 0, 0]\n",
      "4    [1, 1, 1, 0, 0, 0, 0]\n",
      "Name: sentence_labels, dtype: object\n"
     ]
    }
   ],
   "source": [
    "import ast\n",
    "\n",
    "# Convert string representations of lists into actual lists\n",
    "df['sentence_labels'] = df['sentence_labels'].apply(lambda x: ast.literal_eval(x) if isinstance(x, str) else x)\n",
    "\n",
    "# Verify the conversion\n",
    "print(df['sentence_labels'].head())\n"
   ]
  },
  {
   "cell_type": "code",
   "execution_count": 6,
   "metadata": {},
   "outputs": [],
   "source": [
    "import torch\n",
    "\n",
    "# Assuming 'sentence_labels' is already in the correct list format\n",
    "labels_tensor = torch.tensor(df['sentence_labels'].tolist(), dtype=torch.float32)\n"
   ]
  },
  {
   "cell_type": "code",
   "execution_count": 7,
   "metadata": {},
   "outputs": [
    {
     "data": {
      "text/plain": [
       "torch.Size([10672, 7])"
      ]
     },
     "execution_count": 7,
     "metadata": {},
     "output_type": "execute_result"
    }
   ],
   "source": [
    "labels_tensor.shape"
   ]
  },
  {
   "cell_type": "code",
   "execution_count": 8,
   "metadata": {},
   "outputs": [],
   "source": [
    "policies = df['sentence_text'].tolist()\n"
   ]
  },
  {
   "cell_type": "code",
   "execution_count": 9,
   "metadata": {},
   "outputs": [
    {
     "name": "stdout",
     "output_type": "stream",
     "text": [
      "Defaulting to user installation because normal site-packages is not writeable\n",
      "Requirement already satisfied: transformers in /home/ozzie/.local/lib/python3.10/site-packages (4.40.2)\n",
      "\u001b[33mWARNING: Retrying (Retry(total=4, connect=None, read=None, redirect=None, status=None)) after connection broken by 'ProtocolError('Connection aborted.', RemoteDisconnected('Remote end closed connection without response'))': /simple/transformers/\u001b[0m\u001b[33m\n",
      "\u001b[0m\u001b[33mWARNING: Retrying (Retry(total=3, connect=None, read=None, redirect=None, status=None)) after connection broken by 'ProtocolError('Connection aborted.', RemoteDisconnected('Remote end closed connection without response'))': /simple/transformers/\u001b[0m\u001b[33m\n",
      "\u001b[0mRequirement already satisfied: numpy>=1.17 in /home/ozzie/.local/lib/python3.10/site-packages (from transformers) (1.24.3)\n",
      "Requirement already satisfied: pyyaml>=5.1 in /usr/lib/python3/dist-packages (from transformers) (5.4.1)\n",
      "Requirement already satisfied: requests in /home/ozzie/.local/lib/python3.10/site-packages (from transformers) (2.29.0)\n",
      "Requirement already satisfied: huggingface-hub<1.0,>=0.19.3 in /home/ozzie/.local/lib/python3.10/site-packages (from transformers) (0.23.0)\n",
      "Requirement already satisfied: safetensors>=0.4.1 in /home/ozzie/.local/lib/python3.10/site-packages (from transformers) (0.4.3)\n",
      "Requirement already satisfied: tokenizers<0.20,>=0.19 in /home/ozzie/.local/lib/python3.10/site-packages (from transformers) (0.19.1)\n",
      "Requirement already satisfied: tqdm>=4.27 in /home/ozzie/.local/lib/python3.10/site-packages (from transformers) (4.66.4)\n",
      "Requirement already satisfied: regex!=2019.12.17 in /home/ozzie/.local/lib/python3.10/site-packages (from transformers) (2024.4.28)\n",
      "Requirement already satisfied: filelock in /usr/lib/python3/dist-packages (from transformers) (3.6.0)\n",
      "Requirement already satisfied: packaging>=20.0 in /home/ozzie/.local/lib/python3.10/site-packages (from transformers) (23.1)\n",
      "Requirement already satisfied: typing-extensions>=3.7.4.3 in /home/ozzie/.local/lib/python3.10/site-packages (from huggingface-hub<1.0,>=0.19.3->transformers) (4.8.0)\n",
      "Requirement already satisfied: fsspec>=2023.5.0 in /home/ozzie/.local/lib/python3.10/site-packages (from huggingface-hub<1.0,>=0.19.3->transformers) (2024.3.1)\n",
      "Requirement already satisfied: idna<4,>=2.5 in /home/ozzie/.local/lib/python3.10/site-packages (from requests->transformers) (3.4)\n",
      "Requirement already satisfied: urllib3<1.27,>=1.21.1 in /home/ozzie/.local/lib/python3.10/site-packages (from requests->transformers) (1.26.15)\n",
      "Requirement already satisfied: charset-normalizer<4,>=2 in /home/ozzie/.local/lib/python3.10/site-packages (from requests->transformers) (3.1.0)\n",
      "Requirement already satisfied: certifi>=2017.4.17 in /home/ozzie/.local/lib/python3.10/site-packages (from requests->transformers) (2022.12.7)\n",
      "Defaulting to user installation because normal site-packages is not writeable\n",
      "Requirement already satisfied: accelerate in /home/ozzie/.local/lib/python3.10/site-packages (0.30.0)\n",
      "\u001b[33mWARNING: Retrying (Retry(total=4, connect=None, read=None, redirect=None, status=None)) after connection broken by 'ProtocolError('Connection aborted.', RemoteDisconnected('Remote end closed connection without response'))': /simple/accelerate/\u001b[0m\u001b[33m\n",
      "\u001b[0mRequirement already satisfied: psutil in /home/ozzie/.local/lib/python3.10/site-packages (from accelerate) (5.9.8)\n",
      "Requirement already satisfied: torch>=1.10.0 in /home/ozzie/.local/lib/python3.10/site-packages (from accelerate) (2.3.0)\n",
      "Requirement already satisfied: numpy>=1.17 in /home/ozzie/.local/lib/python3.10/site-packages (from accelerate) (1.24.3)\n",
      "Requirement already satisfied: safetensors>=0.3.1 in /home/ozzie/.local/lib/python3.10/site-packages (from accelerate) (0.4.3)\n",
      "Requirement already satisfied: packaging>=20.0 in /home/ozzie/.local/lib/python3.10/site-packages (from accelerate) (23.1)\n",
      "Requirement already satisfied: pyyaml in /usr/lib/python3/dist-packages (from accelerate) (5.4.1)\n",
      "Requirement already satisfied: huggingface-hub in /home/ozzie/.local/lib/python3.10/site-packages (from accelerate) (0.23.0)\n",
      "Requirement already satisfied: nvidia-cufft-cu12==11.0.2.54 in /home/ozzie/.local/lib/python3.10/site-packages (from torch>=1.10.0->accelerate) (11.0.2.54)\n",
      "Requirement already satisfied: networkx in /home/ozzie/.local/lib/python3.10/site-packages (from torch>=1.10.0->accelerate) (3.3)\n",
      "Requirement already satisfied: nvidia-cuda-cupti-cu12==12.1.105 in /home/ozzie/.local/lib/python3.10/site-packages (from torch>=1.10.0->accelerate) (12.1.105)\n",
      "Requirement already satisfied: nvidia-cusolver-cu12==11.4.5.107 in /home/ozzie/.local/lib/python3.10/site-packages (from torch>=1.10.0->accelerate) (11.4.5.107)\n",
      "Requirement already satisfied: fsspec in /home/ozzie/.local/lib/python3.10/site-packages (from torch>=1.10.0->accelerate) (2024.3.1)\n",
      "Requirement already satisfied: nvidia-curand-cu12==10.3.2.106 in /home/ozzie/.local/lib/python3.10/site-packages (from torch>=1.10.0->accelerate) (10.3.2.106)\n",
      "Requirement already satisfied: nvidia-cusparse-cu12==12.1.0.106 in /home/ozzie/.local/lib/python3.10/site-packages (from torch>=1.10.0->accelerate) (12.1.0.106)\n",
      "Requirement already satisfied: nvidia-cublas-cu12==12.1.3.1 in /home/ozzie/.local/lib/python3.10/site-packages (from torch>=1.10.0->accelerate) (12.1.3.1)\n",
      "Requirement already satisfied: filelock in /usr/lib/python3/dist-packages (from torch>=1.10.0->accelerate) (3.6.0)\n",
      "Requirement already satisfied: jinja2 in /home/ozzie/.local/lib/python3.10/site-packages (from torch>=1.10.0->accelerate) (3.1.2)\n",
      "Requirement already satisfied: nvidia-cuda-nvrtc-cu12==12.1.105 in /home/ozzie/.local/lib/python3.10/site-packages (from torch>=1.10.0->accelerate) (12.1.105)\n",
      "Requirement already satisfied: nvidia-nccl-cu12==2.20.5 in /home/ozzie/.local/lib/python3.10/site-packages (from torch>=1.10.0->accelerate) (2.20.5)\n",
      "Requirement already satisfied: typing-extensions>=4.8.0 in /home/ozzie/.local/lib/python3.10/site-packages (from torch>=1.10.0->accelerate) (4.8.0)\n",
      "Requirement already satisfied: nvidia-cuda-runtime-cu12==12.1.105 in /home/ozzie/.local/lib/python3.10/site-packages (from torch>=1.10.0->accelerate) (12.1.105)\n",
      "Requirement already satisfied: nvidia-cudnn-cu12==8.9.2.26 in /home/ozzie/.local/lib/python3.10/site-packages (from torch>=1.10.0->accelerate) (8.9.2.26)\n",
      "Requirement already satisfied: triton==2.3.0 in /home/ozzie/.local/lib/python3.10/site-packages (from torch>=1.10.0->accelerate) (2.3.0)\n",
      "Requirement already satisfied: nvidia-nvtx-cu12==12.1.105 in /home/ozzie/.local/lib/python3.10/site-packages (from torch>=1.10.0->accelerate) (12.1.105)\n",
      "Requirement already satisfied: sympy in /home/ozzie/.local/lib/python3.10/site-packages (from torch>=1.10.0->accelerate) (1.12)\n",
      "Requirement already satisfied: nvidia-nvjitlink-cu12 in /home/ozzie/.local/lib/python3.10/site-packages (from nvidia-cusolver-cu12==11.4.5.107->torch>=1.10.0->accelerate) (12.4.127)\n",
      "Requirement already satisfied: requests in /home/ozzie/.local/lib/python3.10/site-packages (from huggingface-hub->accelerate) (2.29.0)\n",
      "Requirement already satisfied: tqdm>=4.42.1 in /home/ozzie/.local/lib/python3.10/site-packages (from huggingface-hub->accelerate) (4.66.4)\n",
      "Requirement already satisfied: MarkupSafe>=2.0 in /home/ozzie/.local/lib/python3.10/site-packages (from jinja2->torch>=1.10.0->accelerate) (2.1.2)\n",
      "Requirement already satisfied: urllib3<1.27,>=1.21.1 in /home/ozzie/.local/lib/python3.10/site-packages (from requests->huggingface-hub->accelerate) (1.26.15)\n",
      "Requirement already satisfied: charset-normalizer<4,>=2 in /home/ozzie/.local/lib/python3.10/site-packages (from requests->huggingface-hub->accelerate) (3.1.0)\n",
      "Requirement already satisfied: certifi>=2017.4.17 in /home/ozzie/.local/lib/python3.10/site-packages (from requests->huggingface-hub->accelerate) (2022.12.7)\n",
      "Requirement already satisfied: idna<4,>=2.5 in /home/ozzie/.local/lib/python3.10/site-packages (from requests->huggingface-hub->accelerate) (3.4)\n",
      "Requirement already satisfied: mpmath>=0.19 in /home/ozzie/.local/lib/python3.10/site-packages (from sympy->torch>=1.10.0->accelerate) (1.3.0)\n"
     ]
    }
   ],
   "source": [
    "!pip install -U transformers\n",
    "!pip install accelerate -U\n"
   ]
  },
  {
   "cell_type": "code",
   "execution_count": 10,
   "metadata": {},
   "outputs": [
    {
     "name": "stderr",
     "output_type": "stream",
     "text": [
      "/home/ozzie/.local/lib/python3.10/site-packages/tqdm/auto.py:21: TqdmWarning: IProgress not found. Please update jupyter and ipywidgets. See https://ipywidgets.readthedocs.io/en/stable/user_install.html\n",
      "  from .autonotebook import tqdm as notebook_tqdm\n",
      "/home/ozzie/.local/lib/python3.10/site-packages/huggingface_hub/file_download.py:1132: FutureWarning: `resume_download` is deprecated and will be removed in version 1.0.0. Downloads always resume when possible. If you want to force a new download, use `force_download=True`.\n",
      "  warnings.warn(\n"
     ]
    }
   ],
   "source": [
    "import numpy as np\n",
    "from transformers import GPT2Tokenizer, GPT2Model\n",
    "\n",
    "tokenizer = GPT2Tokenizer.from_pretrained('gpt2')\n",
    "\n",
    "if tokenizer.pad_token is None:\n",
    "    tokenizer.pad_token = tokenizer.eos_token\n",
    "\n",
    "model = GPT2Model.from_pretrained('gpt2', pad_token_id=tokenizer.eos_token_id)\n",
    "\n",
    "assert model.config.pad_token_id is not None, \"Pad token not set in model configuration.\"\n",
    "\n",
    "model.resize_token_embeddings(len(tokenizer))\n",
    "\n",
    "# Generate embeddings for each sentence\n",
    "def get_gpt2_embeddings(text):\n",
    "    # Encode text to get input ids and attention mask\n",
    "    encoded_input = tokenizer(text, return_tensors='pt', padding=True, truncation=True, max_length=128)\n",
    "    model.eval()\n",
    "    with torch.no_grad():\n",
    "        output = model(**encoded_input)\n",
    "    # Get the embeddings from the last hidden state\n",
    "    embeddings = output.last_hidden_state[:, -1, :]\n",
    "    return embeddings.numpy()\n",
    "\n",
    "sentence_embeddings = np.array([get_gpt2_embeddings(sentence) for sentence in policies])\n"
   ]
  },
  {
   "cell_type": "code",
   "execution_count": 11,
   "metadata": {},
   "outputs": [
    {
     "data": {
      "text/plain": [
       "(10672, 1, 768)"
      ]
     },
     "execution_count": 11,
     "metadata": {},
     "output_type": "execute_result"
    }
   ],
   "source": [
    "sentence_embeddings.shape\n"
   ]
  },
  {
   "cell_type": "code",
   "execution_count": 12,
   "metadata": {},
   "outputs": [
    {
     "data": {
      "text/plain": [
       "(10672, 768)"
      ]
     },
     "execution_count": 12,
     "metadata": {},
     "output_type": "execute_result"
    }
   ],
   "source": [
    "# Flatten the embeddings by removing the middle dimension\n",
    "sentence_embeddings = sentence_embeddings.squeeze(axis=1)\n",
    "sentence_embeddings.shape\n"
   ]
  },
  {
   "cell_type": "code",
   "execution_count": 13,
   "metadata": {},
   "outputs": [],
   "source": [
    "from sklearn.model_selection import train_test_split\n",
    "\n",
    "X_train, X_test, y_train, y_test = train_test_split(\n",
    "    sentence_embeddings, labels_tensor, test_size=0.2, random_state=42)\n"
   ]
  },
  {
   "cell_type": "code",
   "execution_count": 14,
   "metadata": {},
   "outputs": [
    {
     "name": "stderr",
     "output_type": "stream",
     "text": [
      "/tmp/ipykernel_12377/4267602875.py:4: UserWarning: To copy construct from a tensor, it is recommended to use sourceTensor.clone().detach() or sourceTensor.clone().detach().requires_grad_(True), rather than torch.tensor(sourceTensor).\n",
      "  train_dataset = TensorDataset(torch.tensor(X_train, dtype=torch.float32), torch.tensor(y_train, dtype=torch.float32))\n",
      "/tmp/ipykernel_12377/4267602875.py:7: UserWarning: To copy construct from a tensor, it is recommended to use sourceTensor.clone().detach() or sourceTensor.clone().detach().requires_grad_(True), rather than torch.tensor(sourceTensor).\n",
      "  test_dataset = TensorDataset(torch.tensor(X_test, dtype=torch.float32), torch.tensor(y_test, dtype=torch.float32))\n"
     ]
    }
   ],
   "source": [
    "from torch.utils.data import DataLoader, TensorDataset\n",
    "import torch\n",
    "\n",
    "train_dataset = TensorDataset(torch.tensor(X_train, dtype=torch.float32), torch.tensor(y_train, dtype=torch.float32))\n",
    "train_loader = DataLoader(train_dataset, batch_size=16, shuffle=True)\n",
    "\n",
    "test_dataset = TensorDataset(torch.tensor(X_test, dtype=torch.float32), torch.tensor(y_test, dtype=torch.float32))\n",
    "test_loader = DataLoader(test_dataset, batch_size=16)\n"
   ]
  },
  {
   "cell_type": "code",
   "execution_count": 15,
   "metadata": {},
   "outputs": [
    {
     "name": "stderr",
     "output_type": "stream",
     "text": [
      "/home/ozzie/.local/lib/python3.10/site-packages/torch/nn/modules/transformer.py:306: UserWarning: enable_nested_tensor is True, but self.use_nested_tensor is False because encoder_layer.self_attn.batch_first was not True(use batch_first for better inference performance)\n",
      "  warnings.warn(f\"enable_nested_tensor is True, but self.use_nested_tensor is False because {why_not_sparsity_fast_path}\")\n"
     ]
    },
    {
     "name": "stdout",
     "output_type": "stream",
     "text": [
      "Epoch 1: Loss = 0.3144153952598572\n",
      "Epoch 2: Loss = 0.378030389547348\n",
      "Epoch 3: Loss = 0.5540672540664673\n",
      "Epoch 4: Loss = 0.3359470069408417\n",
      "Epoch 5: Loss = 0.5924244523048401\n",
      "Epoch 6: Loss = 0.5172045826911926\n",
      "Epoch 7: Loss = 0.4706898033618927\n",
      "Epoch 8: Loss = 0.3744139075279236\n",
      "Epoch 9: Loss = 0.3962293565273285\n",
      "Epoch 10: Loss = 0.2517908811569214\n"
     ]
    }
   ],
   "source": [
    "from torch import nn\n",
    "from torch.optim import Adam\n",
    "from torch.optim.lr_scheduler import StepLR\n",
    "\n",
    "device = torch.device(\"cuda\" if torch.cuda.is_available() else \"cpu\")\n",
    "\n",
    "class TransformerClassifier(nn.Module):\n",
    "    def __init__(self, num_features, num_labels, num_layers=1, dropout=0.1):\n",
    "        super(TransformerClassifier, self).__init__()\n",
    "        transformer_layer = nn.TransformerEncoderLayer(\n",
    "            d_model=num_features,\n",
    "            nhead=8,  # Number of attention heads\n",
    "            dim_feedforward=2048,  # Dimension of the feedforward network\n",
    "            dropout=dropout\n",
    "        )\n",
    "        self.transformer = nn.TransformerEncoder(transformer_layer, num_layers=num_layers)\n",
    "        self.output_layer = nn.Linear(num_features, num_labels)\n",
    "\n",
    "    def forward(self, x):\n",
    "        if x.dim() == 2:  # Check if the input is 2D and adjust\n",
    "            x = x.unsqueeze(1)  # Add a sequence length dimension of 1\n",
    "        # No need to permute for a single timestep\n",
    "        x = self.transformer(x)\n",
    "        x = x.mean(dim=1)  # Pooling operation - could also be max or last token\n",
    "        return torch.sigmoid(self.output_layer(x))\n",
    "\n",
    "# Initialize model\n",
    "model = TransformerClassifier(num_features=768, num_labels=7, num_layers=2, dropout=0.1)\n",
    "model.to(device)\n",
    "\n",
    "# Loss and optimizer\n",
    "criterion = nn.BCELoss()\n",
    "optimizer = Adam(model.parameters(), lr=1e-3)\n",
    "scheduler = StepLR(optimizer, step_size=1, gamma=0.95)  # Decays the learning rate by 0.95 every epoch\n",
    "\n",
    "# Training loop\n",
    "model.train()\n",
    "for epoch in range(10):  # Number of epochs\n",
    "    for inputs, labels in train_loader:\n",
    "        inputs, labels = inputs.to(device), labels.to(device)\n",
    "        optimizer.zero_grad()\n",
    "        outputs = model(inputs)\n",
    "        loss = criterion(outputs, labels)\n",
    "        loss.backward()\n",
    "        optimizer.step()\n",
    "    scheduler.step()\n",
    "    print(f'Epoch {epoch + 1}: Loss = {loss.item()}')\n"
   ]
  },
  {
   "cell_type": "code",
   "execution_count": 16,
   "metadata": {},
   "outputs": [
    {
     "name": "stdout",
     "output_type": "stream",
     "text": [
      "Precision: 0.6600, Recall: 0.7500, F1 Score: 0.6772, Accuracy: 0.5199\n"
     ]
    },
    {
     "name": "stderr",
     "output_type": "stream",
     "text": [
      "/home/ozzie/.local/lib/python3.10/site-packages/sklearn/metrics/_classification.py:1471: UndefinedMetricWarning: Recall and F-score are ill-defined and being set to 0.0 in samples with no true labels. Use `zero_division` parameter to control this behavior.\n",
      "  _warn_prf(average, modifier, msg_start, len(result))\n"
     ]
    }
   ],
   "source": [
    "from sklearn.metrics import accuracy_score, precision_recall_fscore_support\n",
    "\n",
    "model.eval()\n",
    "predictions, true_labels = [], []\n",
    "with torch.no_grad():\n",
    "    for inputs, labels in test_loader:\n",
    "        inputs, labels = inputs.to(device), labels.to(device)\n",
    "        outputs = model(inputs)\n",
    "        predicted = (outputs > 0.5).int()  # Threshold predictions\n",
    "        predictions.extend(predicted.cpu().numpy())\n",
    "        true_labels.extend(labels.cpu().numpy())\n",
    "\n",
    "precision, recall, f1, _ = precision_recall_fscore_support(true_labels, predictions, average='samples')\n",
    "accuracy = accuracy_score(true_labels, predictions)\n",
    "print(f'Precision: {precision:.4f}, Recall: {recall:.4f}, F1 Score: {f1:.4f}, Accuracy: {accuracy:.4f}')\n",
    "\n"
   ]
  },
  {
   "cell_type": "code",
   "execution_count": 41,
   "metadata": {},
   "outputs": [],
   "source": [
    "# Save the entire model\n",
    "torch.save(model, './model.pth')\n",
    "\n",
    "# Or save only the state dictionary\n",
    "torch.save(model.state_dict(), './model_state_dict.pth')\n"
   ]
  },
  {
   "cell_type": "code",
   "execution_count": 17,
   "metadata": {},
   "outputs": [
    {
     "name": "stderr",
     "output_type": "stream",
     "text": [
      "/home/ozzie/.local/lib/python3.10/site-packages/huggingface_hub/file_download.py:1132: FutureWarning: `resume_download` is deprecated and will be removed in version 1.0.0. Downloads always resume when possible. If you want to force a new download, use `force_download=True`.\n",
      "  warnings.warn(\n"
     ]
    },
    {
     "name": "stdout",
     "output_type": "stream",
     "text": [
      "[1 1 1 0 0 0 0]\n"
     ]
    }
   ],
   "source": [
    "import torch\n",
    "\n",
    "# Sample text\n",
    "sample_text = \"We reveal only the last four digits of your credit card numbers when confirming an order.\"\n",
    "sample_text = \"Our site includes third-party advertising and links to other Web sites.\"\n",
    "\n",
    "# Encode the text using the same SBERT model used for training\n",
    "tokenizer = GPT2Tokenizer.from_pretrained('gpt2')\n",
    "\n",
    "if tokenizer.pad_token is None:\n",
    "    tokenizer.pad_token = tokenizer.eos_token\n",
    "\n",
    "gpt_model = GPT2Model.from_pretrained('gpt2', pad_token_id=tokenizer.eos_token_id)\n",
    "\n",
    "assert gpt_model.config.pad_token_id is not None, \"Pad token not set in model configuration.\"\n",
    "\n",
    "gpt_model.resize_token_embeddings(len(tokenizer))\n",
    "\n",
    "gpt_model.to(device)  # Ensure BERT is on the correct device\n",
    "gpt_model.eval()  # Set BERT to evaluation mode\n",
    "\n",
    "def get_gpt_embeddings(text_list):\n",
    "    # Tokenize and encode sentences for BERT input\n",
    "    encoded_input = tokenizer(text_list, return_tensors='pt', padding=True, truncation=True, max_length=128)\n",
    "    encoded_input = {k: v.to(device) for k, v in encoded_input.items()}  # Move to the same device as model\n",
    "    with torch.no_grad():\n",
    "        outputs = gpt_model(**encoded_input)\n",
    "    # Get the embeddings from the last hidden state\n",
    "    embeddings = outputs.last_hidden_state[:, -1, :]\n",
    "    return embeddings.numpy()\n",
    "\n",
    "sample_embedding = get_gpt_embeddings([sample_text])  # Ensure it's in a list for batch processing\n",
    "\n",
    "# Convert to tensor\n",
    "sample_tensor = torch.tensor(sample_embedding, dtype=torch.float32).to(device)\n",
    "\n",
    "# Make prediction\n",
    "with torch.no_grad():\n",
    "    output = model(sample_tensor)\n",
    "    predicted = (output > 0.5).int().cpu().numpy()  # Apply threshold to get binary labels\n",
    "\n",
    "# Output the predicted labels\n",
    "print(predicted[0])  "
   ]
  },
  {
   "cell_type": "code",
   "execution_count": null,
   "metadata": {},
   "outputs": [],
   "source": []
  }
 ],
 "metadata": {
  "kernelspec": {
   "display_name": "Python 3",
   "language": "python",
   "name": "python3"
  },
  "language_info": {
   "codemirror_mode": {
    "name": "ipython",
    "version": 3
   },
   "file_extension": ".py",
   "mimetype": "text/x-python",
   "name": "python",
   "nbconvert_exporter": "python",
   "pygments_lexer": "ipython3",
   "version": "3.10.12"
  }
 },
 "nbformat": 4,
 "nbformat_minor": 2
}
